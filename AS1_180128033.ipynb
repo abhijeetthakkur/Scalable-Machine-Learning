{
 "cells": [
  {
   "cell_type": "code",
   "execution_count": 6,
   "metadata": {
    "collapsed": true
   },
   "outputs": [],
   "source": [
    "import os\n",
    "import subprocess\n",
    "def module(*args):        \n",
    "    if isinstance(args[0], list):        \n",
    "        args = args[0]        \n",
    "    else:        \n",
    "        args = list(args)        \n",
    "    (output, error) = subprocess.Popen(['/usr/bin/modulecmd', 'python'] + args, stdout=subprocess.PIPE).communicate()\n",
    "    exec(output)    \n",
    "module('load', 'apps/java/jdk1.8.0_102/binary')    \n",
    "os.environ['PYSPARK_PYTHON'] = os.environ['HOME'] + '/.conda/envs/jupyter-spark/bin/python'"
   ]
  },
  {
   "cell_type": "code",
   "execution_count": 10,
   "metadata": {
    "collapsed": true
   },
   "outputs": [],
   "source": [
    "#making session.\n",
    "import pyspark\n",
    "from pyspark.sql import SparkSession\n",
    "from pyspark.sql.functions import *\n",
    "spark = SparkSession.builder \\\n",
    "    .master(\"local[2]\") \\\n",
    "    .appName(\"COM6012 Spark Intro\") \\\n",
    "    .getOrCreate()\n",
    "\n",
    "sc = spark.sparkContext"
   ]
  },
  {
   "cell_type": "markdown",
   "metadata": {},
   "source": [
    "## Question 1(a) ##"
   ]
  },
  {
   "cell_type": "code",
   "execution_count": 11,
   "metadata": {
    "collapsed": true
   },
   "outputs": [],
   "source": [
    "#loading file\n",
    "logFile=spark.read.text(\"Data/NASA_access_log_Jul95.gz\").cache()"
   ]
  },
  {
   "cell_type": "code",
   "execution_count": 12,
   "metadata": {
    "collapsed": true,
    "scrolled": true
   },
   "outputs": [],
   "source": [
    "import pyspark.sql.functions as f #importing libraies.\n",
    "#spliting by spaces.\n",
    "split_col = f.split(logFile ['value'], ' ')\n",
    "#Making column.\n",
    "logFile = logFile.withColumn('a', split_col.getItem(0))\n",
    "logFile = logFile.withColumn('b', split_col.getItem(1))\n",
    "logFile = logFile.withColumn('c', split_col.getItem(2))\n",
    "logFile = logFile.withColumn('date', split_col.getItem(3))\n",
    "logFile = logFile.withColumn('e', split_col.getItem(4))\n",
    "logFile = logFile.withColumn('f', split_col.getItem(5))\n",
    "logFile = logFile.withColumn('request', split_col.getItem(6))\n",
    "logFile = logFile.withColumn('h', split_col.getItem(6))\n",
    "logFile = logFile.withColumn('i', split_col.getItem(7))\n",
    "logFile = logFile.withColumn('j', split_col.getItem(8))"
   ]
  },
  {
   "cell_type": "code",
   "execution_count": 13,
   "metadata": {
    "collapsed": true
   },
   "outputs": [],
   "source": [
    "#transforming date and droping useless column.\n",
    "split_col = f.split(logFile ['date'], ':')\n",
    "logFile = logFile.withColumn('date', split_col.getItem(0))\n",
    "f1 = logFile.drop('value')\n",
    "f2 = f1.drop('j')\n",
    "f3 = f2.drop('b')\n",
    "f4 = f3.drop('c')\n",
    "f5 = f4.drop('e')\n",
    "f6 = f5.drop('d')\n",
    "split_col = f.split(f6 ['date'], '\\[')\n",
    "f6 = f6.withColumn('date', split_col.getItem(1))\n",
    "request_count=f6.select('request').count()"
   ]
  },
  {
   "cell_type": "code",
   "execution_count": 14,
   "metadata": {},
   "outputs": [
    {
     "name": "stdout",
     "output_type": "stream",
     "text": [
      "+---+------+\n",
      "|Day| count|\n",
      "+---+------+\n",
      "|Sun|182590|\n",
      "|Mon|301684|\n",
      "|Thu|363436|\n",
      "|Sat|184380|\n",
      "|Wed|318698|\n",
      "|Tue|277840|\n",
      "|Fri|263086|\n",
      "+---+------+\n",
      "\n"
     ]
    }
   ],
   "source": [
    "#changing date format and finding days.\n",
    "new_date_format = f6.withColumn(\"transformed_date\", regexp_replace('date','/Jul/','-07-'))\n",
    "new_date_format = new_date_format.withColumn('new_transformed_date', to_date('transformed_date', 'dd-MM-yyyy'))\n",
    "new_date_format = new_date_format.withColumn('Day', date_format('new_transformed_date','E'))\n",
    "Day_Count = new_date_format.groupBy('Day').count()\n",
    "Day_Count = Day_Count.where(Day_Count.Day.isNotNull())\n",
    "Day_Count.show()"
   ]
  },
  {
   "cell_type": "code",
   "execution_count": 21,
   "metadata": {
    "scrolled": false
   },
   "outputs": [
    {
     "name": "stdout",
     "output_type": "stream",
     "text": [
      "Accuracy on Sunday 45647.5\n",
      "Accuracy on Monday 75421.0\n",
      "Accuracy on Tuesday 69460.0\n",
      "Accuracy on Wednesday 79674.5\n",
      "Accuracy on Thursday 90859.0\n",
      "Accuracy on Friday 65771.5\n",
      "Accuracy on Saturday 46095.0\n"
     ]
    }
   ],
   "source": [
    "# to find the averge dividing each total of request with count of number.\n",
    "acurracy_sun=182590/4\n",
    "acurracy_mon=301684/4\n",
    "acurracy_tues=277840/4\n",
    "acurracy_wed=318698/4\n",
    "acurracy_thurs=363436/4\n",
    "acurracy_fri=263086/4\n",
    "acurracy_sat=184380/4\n",
    "\n",
    "print(\"Accuracy on Sunday\",acurracy_sun)\n",
    "print(\"Accuracy on Monday\",acurracy_mon)\n",
    "print(\"Accuracy on Tuesday\",acurracy_tues)\n",
    "print(\"Accuracy on Wednesday\",acurracy_wed)\n",
    "print(\"Accuracy on Thursday\",acurracy_thurs)\n",
    "print(\"Accuracy on Friday\",acurracy_fri)\n",
    "print(\"Accuracy on Saturday\",acurracy_sat)"
   ]
  },
  {
   "cell_type": "markdown",
   "metadata": {},
   "source": [
    "## Question 1(b) ##"
   ]
  },
  {
   "cell_type": "code",
   "execution_count": 22,
   "metadata": {},
   "outputs": [
    {
     "data": {
      "text/plain": [
       "<matplotlib.axes._subplots.AxesSubplot at 0x2aad4f3fde10>"
      ]
     },
     "execution_count": 22,
     "metadata": {},
     "output_type": "execute_result"
    },
    {
     "data": {
      "image/png": "[encoded data removed]",
      "text/plain": [
       "<Figure size 432x288 with 1 Axes>"
      ]
     },
     "metadata": {},
     "output_type": "display_data"
    }
   ],
   "source": [
    "import matplotlib\n",
    "import matplotlib.pyplot as plot\n",
    "% matplotlib inline\n",
    "\n",
    "visualise_count = Day_Count.toPandas()\n",
    "visualise_count.plot(kind = 'pie', y = 'count', labels = visualise_count['Day'] ,legend = False)"
   ]
  },
  {
   "cell_type": "markdown",
   "metadata": {},
   "source": [
    "## Question 1 (c) ##"
   ]
  },
  {
   "cell_type": "code",
   "execution_count": 23,
   "metadata": {},
   "outputs": [
    {
     "name": "stdout",
     "output_type": "stream",
     "text": [
      "+---------------------------------------------------+------+\n",
      "|request                                            |count |\n",
      "+---------------------------------------------------+------+\n",
      "|/images/NASA-logosmall.gif                         |111144|\n",
      "|/images/KSC-logosmall.gif                          |89530 |\n",
      "|/images/MOSAIC-logosmall.gif                       |60300 |\n",
      "|/images/USA-logosmall.gif                          |59845 |\n",
      "|/images/WORLD-logosmall.gif                        |59325 |\n",
      "|/images/ksclogo-medium.gif                         |58616 |\n",
      "|/images/launch-logo.gif                            |40841 |\n",
      "|/images/ksclogosmall.gif                           |33555 |\n",
      "|/history/apollo/images/apollo-logo1.gif            |31052 |\n",
      "|/shuttle/countdown/count.gif                       |22189 |\n",
      "|/shuttle/countdown/count70.gif                     |20921 |\n",
      "|/images/launchmedium.gif                           |20788 |\n",
      "|/shuttle/missions/sts-71/sts-71-patch-small.gif    |19832 |\n",
      "|/shuttle/missions/sts-70/sts-70-patch-small.gif    |18135 |\n",
      "|/history/apollo/images/footprint-logo.gif          |16168 |\n",
      "|/history/apollo/images/footprint-small.gif         |13912 |\n",
      "|/history/apollo/apollo-13/apollo-13-patch-small.gif|13004 |\n",
      "|/shuttle/countdown/video/livevideo.gif             |10143 |\n",
      "|/history/apollo/images/apollo-small.gif            |10089 |\n",
      "|/shuttle/countdown/video/livevideo2.gif            |9816  |\n",
      "+---------------------------------------------------+------+\n",
      "only showing top 20 rows\n",
      "\n"
     ]
    }
   ],
   "source": [
    "# top 20 most requested .gif images.\n",
    "request_count_top20=f6.select('request')\n",
    "request_count__top20 = request_count_top20.filter(logFile.value.contains(\".gif\"))\n",
    "request__count__top20 = request_count__top20.groupBy(\"request\").count()\n",
    "requester=request__count__top20.orderBy(\"count\", ascending=False)\n",
    "requester.show(20,False)     "
   ]
  },
  {
   "cell_type": "markdown",
   "metadata": {},
   "source": [
    "## Question 1(d) ##"
   ]
  },
  {
   "cell_type": "code",
   "execution_count": 24,
   "metadata": {},
   "outputs": [
    {
     "data": {
      "text/plain": [
       "<matplotlib.axes._subplots.AxesSubplot at 0x2aad7b660748>"
      ]
     },
     "execution_count": 24,
     "metadata": {},
     "output_type": "execute_result"
    },
    {
     "data": {
      "image/png": "[encoded data removed]",
      "text/plain": [
       "<Figure size 432x288 with 1 Axes>"
      ]
     },
     "metadata": {},
     "output_type": "display_data"
    }
   ],
   "source": [
    "requesttop20 = requester.limit(20).toPandas()\n",
    "requesttop20.plot(kind = 'bar', y = 'count', x = 'request',legend = False)"
   ]
  },
  {
   "cell_type": "markdown",
   "metadata": {},
   "source": [
    "## Question 2(a) ##"
   ]
  },
  {
   "cell_type": "code",
   "execution_count": 15,
   "metadata": {
    "collapsed": true
   },
   "outputs": [],
   "source": [
    "#importing libraries.\n",
    "from pyspark.ml.evaluation import RegressionEvaluator\n",
    "from pyspark.ml.recommendation import ALS\n",
    "from pyspark.sql import Row"
   ]
  },
  {
   "cell_type": "code",
   "execution_count": 18,
   "metadata": {
    "collapsed": true
   },
   "outputs": [],
   "source": [
    "#loading csv file.\n",
    "df = spark.read.load(\"Data/ratings.csv\",format=\"csv\", inferSchema=\"true\", header=\"true\")"
   ]
  },
  {
   "cell_type": "code",
   "execution_count": 19,
   "metadata": {},
   "outputs": [
    {
     "name": "stdout",
     "output_type": "stream",
     "text": [
      "[DataFrame[userId: int, movieId: int, rating: double, timestamp: int], DataFrame[userId: int, movieId: int, rating: double, timestamp: int], DataFrame[userId: int, movieId: int, rating: double, timestamp: int], DataFrame[userId: int, movieId: int, rating: double, timestamp: int], DataFrame[userId: int, movieId: int, rating: double, timestamp: int]]\n"
     ]
    }
   ],
   "source": [
    "#Spliting Data into 5 parts and then using 4 for training and one for testing.  \n",
    "five_fold_cross_validation=5\n",
    "five_fold_cross_validation_list=[]\n",
    "for i in range(five_fold_cross_validation):    \n",
    "    parts=1/five_fold_cross_validation\n",
    "    five_fold_cross_validation_list.append(parts)\n",
    "five_fold_cross_validation_list_updated = df.randomSplit(five_fold_cross_validation_list)\n",
    "print(five_fold_cross_validation_list_updated)"
   ]
  },
  {
   "cell_type": "code",
   "execution_count": 20,
   "metadata": {},
   "outputs": [
    {
     "name": "stdout",
     "output_type": "stream",
     "text": [
      "List of rmse for drop1 [1.050706171498528, 1.0507565280032019, 1.0508653205949694, 1.051141300680862, 1.0513950426948144]\n",
      "List of mae for drop1 [0.8763318944595654, 0.8765855599065437, 0.8766300446900048, 0.8767435075444302, 0.8771588037089416]\n",
      "List of rmse for drop2 [0.80815830555369, 0.8085078972870579, 0.8088266317616041, 0.80855572868725, 0.8091606884616688]\n",
      "List of mae for drop2 [0.6295272803562297, 0.6298531839523294, 0.6301397896448747, 0.6298115012855368, 0.630190087922438]\n"
     ]
    }
   ],
   "source": [
    "#importing libraries.\n",
    "from functools import reduce  \n",
    "from pyspark.sql import DataFrame\n",
    "#list\n",
    "rmse_drop1_list = [] #RMSE drop1 list.\n",
    "mae_drop1_list = [] #MAE drop1 list.\n",
    "rmse_drop2_list = [] #RMSE drop2 list.\n",
    "mae_drop2_list = [] #MAE drop2 list.\n",
    "no_of_item=[] #No of Items.\n",
    "\n",
    "def unionAll(*df):\n",
    "    return reduce(DataFrame.unionAll, df)\n",
    "k=5\n",
    "for i in range(k): # runing training and testing at every iteration.\n",
    "    x_test=five_fold_cross_validation_list_updated[i] #moving one part in test data.\n",
    "    nlist = [x for k,x in enumerate(five_fold_cross_validation_list_updated) if k!=i]  \n",
    "    nlist_1=nlist[0]\n",
    "    for kk in nlist[1:]: #combining 4 parts for training.\n",
    "        nlist_1=nlist_1.union(kk)\n",
    "    x_train=nlist_1\n",
    "    # Used content from lab 3 for refernce.\n",
    "    #2 approch drop1 and drop2.\n",
    "    als_drop1 = ALS(maxIter=10, userCol=\"userId\", regParam=0.6,itemCol=\"movieId\", ratingCol=\"rating\",coldStartStrategy=\"drop\")\n",
    "    als_drop2 = ALS(maxIter=10, userCol=\"userId\", regParam=0.1, itemCol=\"movieId\", ratingCol=\"rating\",coldStartStrategy=\"drop\")\n",
    "    #Training model on both approach.\n",
    "    model_drop1 = als_drop1.fit(x_train) \n",
    "    model_drop2 = als_drop2.fit(x_train)\n",
    "    #appending data into items list, to be used in next part.\n",
    "    no_of_item.append(model_drop1.itemFactors)\n",
    "    #doing prediction on testing for both approcah.\n",
    "    predictions_drop1 = model_drop1.transform(x_test)\n",
    "    predictions_drop2 = model_drop2.transform(x_test)\n",
    "    #'RMSE' and 'MAE' for drop1.\n",
    "    evaluator_rmse_drop1 = RegressionEvaluator(metricName=\"rmse\", labelCol=\"rating\",predictionCol=\"prediction\")\n",
    "    rmse_drop1 = evaluator_rmse_drop1.evaluate(predictions_drop1)\n",
    "    rmse_drop1_list.append(rmse_drop1)\n",
    "    evaluator_mae_drop1 = RegressionEvaluator(metricName=\"mae\", labelCol=\"rating\",predictionCol=\"prediction\")\n",
    "    mae_drop1 = evaluator_mae_drop1.evaluate(predictions_drop1)\n",
    "    mae_drop1_list.append(mae_drop1)\n",
    "    #'RMSE' and 'MAE' for drop2.\n",
    "    evaluator_rmse_drop2 = RegressionEvaluator(metricName=\"rmse\", labelCol=\"rating\",predictionCol=\"prediction\")\n",
    "    rmse_drop2 = evaluator_rmse_drop2.evaluate(predictions_drop2)\n",
    "    rmse_drop2_list.append(rmse_drop2)\n",
    "    evaluator_mae_drop2 = RegressionEvaluator(metricName=\"mae\", labelCol=\"rating\",predictionCol=\"prediction\")\n",
    "    mae_drop2 = evaluator_mae_drop2.evaluate(predictions_drop2)\n",
    "    mae_drop2_list.append(mae_drop2)\n",
    "#printing list.\n",
    "print(\"List of rmse for drop1\",rmse_drop1_list)\n",
    "print(\"List of mae for drop1\",mae_drop1_list)\n",
    "print(\"List of rmse for drop2\",rmse_drop2_list)\n",
    "print(\"List of mae for drop2\",mae_drop2_list) "
   ]
  },
  {
   "cell_type": "code",
   "execution_count": 29,
   "metadata": {},
   "outputs": [
    {
     "name": "stdout",
     "output_type": "stream",
     "text": [
      "Averge of rmse for coldStartStrategy(drop1) 1.05097287269\n",
      "Standard deviation of rmse for coldStartStrategy(drop1) 0.000259267237905\n",
      "Averge of mae for coldStartStrategy(drop1) 0.876689962062\n",
      "Standard deviation of rmse for coldStartStrategy(drop1) 0.000270326438973\n",
      "Averge of rmse for coldStartStrategy(drop2) 0.80864185035\n",
      "Standard deviation of rmse for coldStartStrategy(drop2) 0.000335414099316\n",
      "Averge of mae for coldStartStrategy(drop2) 0.629904368632\n",
      "Standard deviation of mae for coldStartStrategy(drop2) 0.00024103873109\n"
     ]
    }
   ],
   "source": [
    "import numpy as np #importing libraries.\n",
    "#Mean and Standard Deviation for both the approach.\n",
    "averge_rmse_drop1_list=np.sum(rmse_drop1_list)/5\n",
    "standard_deviation_averge_rmse_drop1_list =np.std(rmse_drop1_list)\n",
    "print(\"Averge of rmse for coldStartStrategy(drop1)\",averge_rmse_drop1_list)\n",
    "print(\"Standard deviation of rmse for coldStartStrategy(drop1)\",standard_deviation_averge_rmse_drop1_list)\n",
    "averge_mae_drop1_list=np.sum(mae_drop1_list)/5\n",
    "standard_deviation_averge_mae_drop1_list =np.std(mae_drop1_list)\n",
    "print(\"Averge of mae for coldStartStrategy(drop1)\",averge_mae_drop1_list)\n",
    "print(\"Standard deviation of rmse for coldStartStrategy(drop1)\",standard_deviation_averge_mae_drop1_list)\n",
    "averge_rmse_drop2_list=np.sum(rmse_drop2_list)/5 \n",
    "standard_deviation_averge_rmse_drop2_list =np.std(rmse_drop2_list)\n",
    "print(\"Averge of rmse for coldStartStrategy(drop2)\",averge_rmse_drop2_list)\n",
    "print(\"Standard deviation of rmse for coldStartStrategy(drop2)\",standard_deviation_averge_rmse_drop2_list)\n",
    "averge_mae_drop2_list=np.sum(mae_drop2_list)/5\n",
    "standard_deviation_averge_mae_drop2_list =np.std(mae_drop2_list)\n",
    "print(\"Averge of mae for coldStartStrategy(drop2)\",averge_mae_drop2_list)\n",
    "print(\"Standard deviation of mae for coldStartStrategy(drop2)\",standard_deviation_averge_mae_drop2_list)"
   ]
  },
  {
   "cell_type": "markdown",
   "metadata": {},
   "source": [
    "## Question 2(c) ##\n",
    "Note: Question 2(b and d) in the report"
   ]
  },
  {
   "cell_type": "code",
   "execution_count": 30,
   "metadata": {
    "collapsed": true
   },
   "outputs": [],
   "source": [
    "#importing libraries.\n",
    "from pyspark.sql import functions as F\n",
    "from pyspark.ml.linalg import Vectors\n",
    "from pyspark.ml.clustering import KMeans\n",
    "from pyspark.ml.linalg import VectorUDT\n",
    "from pyspark.sql.functions import udf\n",
    "from pyspark.ml.evaluation import ClusteringEvaluator\n",
    "from pyspark.sql.functions import col\n",
    "#list.\n",
    "list_of_movies=[]\n",
    "three_large_cluster=3\n",
    "#reading file.\n",
    "genome_tag_df = spark.read.load(\"Data/ml-20m/genome-tags.csv\",format=\"csv\", inferSchema=\"true\", header=\"true\")\n",
    "genome_scores_df = spark.read.load(\"Data/ml-20m/genome-scores.csv\",format=\"csv\", inferSchema=\"true\", header=\"true\")\n",
    "movie_vector=udf(lambda a: Vectors.dense(a), VectorUDT())\n",
    "# Iterating it 15 times.\n",
    "for i in range(len(no_of_item)):\n",
    "    id_for_item=[]\n",
    "    dataframe=no_of_item[i].withColumn('dense_vec', movie_vector('features'))\n",
    "    dataframe_1=dataframe.drop('features')\n",
    "    dataframe_2=dataframe_1.selectExpr(\"id as id\",\"dense_vec as features\")\n",
    "    k_mean=KMeans().setK(20).setSeed(1) #kmean for clustering where k=20 as asked.\n",
    "    k_mean_model= k_mean.fit(dataframe_2)\n",
    "    k_mean_model_transformation=k_mean_model.transform(dataframe_2)\n",
    "    k_mean_grouping=k_mean_model_transformation.groupBy(\"prediction\").count().sort(col(\"count\").desc()).limit(3)\n",
    "    k_mean_top_three=[int(row.prediction) for row in k_mean_grouping.collect()]\n",
    "    for i in range(three_large_cluster):\n",
    "        input_kmean=k_mean_model_transformation.prediction == k_mean_top_three[i]\n",
    "        clustering_id = k_mean_model_transformation.filter(input_kmean)\n",
    "        clustering_id_1=[int(row.id) for row in clustering_id.collect()]\n",
    "        id_for_item.append(clustering_id_1)\n",
    "    list_of_movies.append(id_for_item)"
   ]
  },
  {
   "cell_type": "code",
   "execution_count": 31,
   "metadata": {},
   "outputs": [
    {
     "name": "stdout",
     "output_type": "stream",
     "text": [
      "splitting :1\n",
      "clustering :1\n",
      "+-----+---------------+\n",
      "|tagId|            tag|\n",
      "+-----+---------------+\n",
      "|  302|       dialogue|\n",
      "|  452|good soundtrack|\n",
      "|  468|   great ending|\n",
      "|  646|         mentor|\n",
      "|  742|       original|\n",
      "+-----+---------------+\n",
      "\n",
      "splitting :1\n",
      "clustering :2\n",
      "+-----+---------------+\n",
      "|tagId|            tag|\n",
      "+-----+---------------+\n",
      "|  302|       dialogue|\n",
      "|  452|good soundtrack|\n",
      "|  468|   great ending|\n",
      "|  646|         mentor|\n",
      "|  742|       original|\n",
      "+-----+---------------+\n",
      "\n",
      "splitting :1\n",
      "clustering :3\n",
      "+-----+------------+\n",
      "|tagId|         tag|\n",
      "+-----+------------+\n",
      "|  188| catastrophe|\n",
      "|  302|    dialogue|\n",
      "|  468|great ending|\n",
      "|  646|      mentor|\n",
      "|  742|    original|\n",
      "+-----+------------+\n",
      "\n",
      "splitting :2\n",
      "clustering :1\n",
      "+-----+---------------+\n",
      "|tagId|            tag|\n",
      "+-----+---------------+\n",
      "|  302|       dialogue|\n",
      "|  452|good soundtrack|\n",
      "|  468|   great ending|\n",
      "|  646|         mentor|\n",
      "|  742|       original|\n",
      "+-----+---------------+\n",
      "\n",
      "splitting :2\n",
      "clustering :2\n",
      "+-----+---------------+\n",
      "|tagId|            tag|\n",
      "+-----+---------------+\n",
      "|  302|       dialogue|\n",
      "|  452|good soundtrack|\n",
      "|  468|   great ending|\n",
      "|  646|         mentor|\n",
      "|  742|       original|\n",
      "+-----+---------------+\n",
      "\n",
      "splitting :2\n",
      "clustering :3\n",
      "+-----+---------------+\n",
      "|tagId|            tag|\n",
      "+-----+---------------+\n",
      "|  302|       dialogue|\n",
      "|  452|good soundtrack|\n",
      "|  468|   great ending|\n",
      "|  646|         mentor|\n",
      "|  742|       original|\n",
      "+-----+---------------+\n",
      "\n",
      "splitting :3\n",
      "clustering :1\n",
      "+-----+------------+\n",
      "|tagId|         tag|\n",
      "+-----+------------+\n",
      "|  188| catastrophe|\n",
      "|  302|    dialogue|\n",
      "|  468|great ending|\n",
      "|  646|      mentor|\n",
      "|  742|    original|\n",
      "+-----+------------+\n",
      "\n",
      "splitting :3\n",
      "clustering :2\n",
      "+-----+---------------+\n",
      "|tagId|            tag|\n",
      "+-----+---------------+\n",
      "|  302|       dialogue|\n",
      "|  452|good soundtrack|\n",
      "|  468|   great ending|\n",
      "|  646|         mentor|\n",
      "|  742|       original|\n",
      "+-----+---------------+\n",
      "\n",
      "splitting :3\n",
      "clustering :3\n",
      "+-----+---------------+\n",
      "|tagId|            tag|\n",
      "+-----+---------------+\n",
      "|  302|       dialogue|\n",
      "|  452|good soundtrack|\n",
      "|  468|   great ending|\n",
      "|  646|         mentor|\n",
      "|  742|       original|\n",
      "+-----+---------------+\n",
      "\n",
      "splitting :4\n",
      "clustering :1\n",
      "+-----+---------------+\n",
      "|tagId|            tag|\n",
      "+-----+---------------+\n",
      "|  452|good soundtrack|\n",
      "|  468|   great ending|\n",
      "|  646|         mentor|\n",
      "|  742|       original|\n",
      "|  972|   storytelling|\n",
      "+-----+---------------+\n",
      "\n",
      "splitting :4\n",
      "clustering :2\n",
      "+-----+---------------+\n",
      "|tagId|            tag|\n",
      "+-----+---------------+\n",
      "|  302|       dialogue|\n",
      "|  452|good soundtrack|\n",
      "|  468|   great ending|\n",
      "|  646|         mentor|\n",
      "|  742|       original|\n",
      "+-----+---------------+\n",
      "\n",
      "splitting :4\n",
      "clustering :3\n",
      "+-----+---------------+\n",
      "|tagId|            tag|\n",
      "+-----+---------------+\n",
      "|  302|       dialogue|\n",
      "|  452|good soundtrack|\n",
      "|  468|   great ending|\n",
      "|  646|         mentor|\n",
      "|  742|       original|\n",
      "+-----+---------------+\n",
      "\n",
      "splitting :5\n",
      "clustering :1\n",
      "+-----+---------------+\n",
      "|tagId|            tag|\n",
      "+-----+---------------+\n",
      "|  302|       dialogue|\n",
      "|  452|good soundtrack|\n",
      "|  468|   great ending|\n",
      "|  646|         mentor|\n",
      "|  742|       original|\n",
      "+-----+---------------+\n",
      "\n",
      "splitting :5\n",
      "clustering :2\n",
      "+-----+---------------+\n",
      "|tagId|            tag|\n",
      "+-----+---------------+\n",
      "|  302|       dialogue|\n",
      "|  452|good soundtrack|\n",
      "|  468|   great ending|\n",
      "|  646|         mentor|\n",
      "|  742|       original|\n",
      "+-----+---------------+\n",
      "\n",
      "splitting :5\n",
      "clustering :3\n",
      "+-----+------------+\n",
      "|tagId|         tag|\n",
      "+-----+------------+\n",
      "|  188| catastrophe|\n",
      "|  302|    dialogue|\n",
      "|  468|great ending|\n",
      "|  646|      mentor|\n",
      "|  742|    original|\n",
      "+-----+------------+\n",
      "\n"
     ]
    }
   ],
   "source": [
    "#to find the top five tags for each of the top three largest clusters.\n",
    "for a in list_of_movies:\n",
    "    for b in a:\n",
    "        i = list_of_movies.index(a)+1\n",
    "        print('splitting :'+str(i))\n",
    "        print('clustering :'+str(a.index(b)+1))\n",
    "        movies=genome_scores_df.where(genome_scores_df.movieId.isin(b))\n",
    "        tag=movies.groupBy('tagId').agg(F.sum(\"relevance\")).sort(col('sum(relevance)').desc()).limit(5)\n",
    "        Id_tag_list=[int(row.tagId) for row in tag.collect()]\n",
    "        final_tag = genome_tag_df.where(genome_tag_df.tagId.isin(Id_tag_list))\n",
    "        #if i < 6:\n",
    "        final_tag.show(5)\n",
    "        "
   ]
  }
 ],
 "metadata": {
  "anaconda-cloud": {},
  "kernelspec": {
   "display_name": "Python 3",
   "language": "python",
   "name": "python3"
  },
  "language_info": {
   "codemirror_mode": {
    "name": "ipython",
    "version": 3
   },
   "file_extension": ".py",
   "mimetype": "text/x-python",
   "name": "python",
   "nbconvert_exporter": "python",
   "pygments_lexer": "ipython3",
   "version": "3.7.1"
  }
 },
 "nbformat": 4,
 "nbformat_minor": 2
}
